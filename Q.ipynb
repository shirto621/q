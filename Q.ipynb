{
  "nbformat": 4,
  "nbformat_minor": 0,
  "metadata": {
    "colab": {
      "provenance": []
    },
    "kernelspec": {
      "name": "python3",
      "display_name": "Python 3"
    },
    "language_info": {
      "name": "python"
    }
  },
  "cells": [
    {
      "cell_type": "code",
      "source": [
        "def bus_counter(lst):\n",
        "  total_num=0\n",
        "  for item in lst:\n",
        "   total_num+=item[0]-item[1]\n",
        "   if total_num<0:\n",
        "    return -1\n",
        "  return total_num\n",
        "\n",
        "lst=[[2,0],[3,2],[6,4],[1,3],[0,2]]\n",
        "result=bus_counter(lst)\n",
        "print(result)"
      ],
      "metadata": {
        "colab": {
          "base_uri": "https://localhost:8080/"
        },
        "id": "fto1bnP5tMjj",
        "outputId": "6c638a8f-5d22-4ee6-ca86-e52e7bf60d9a"
      },
      "execution_count": 16,
      "outputs": [
        {
          "output_type": "stream",
          "name": "stdout",
          "text": [
            "1\n"
          ]
        }
      ]
    }
  ]
}